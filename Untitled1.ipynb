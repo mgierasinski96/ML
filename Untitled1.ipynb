{
 "cells": [
  {
   "cell_type": "code",
   "execution_count": 3,
   "metadata": {},
   "outputs": [
    {
     "data": {
      "text/plain": [
       "1"
      ]
     },
     "execution_count": 3,
     "metadata": {},
     "output_type": "execute_result"
    }
   ],
   "source": [
    "import pulp\n",
    "\n",
    "problem_znicze = pulp.LpProblem(\"Problem znicze\", pulp.LpMaximize)\n",
    "\n",
    "x_1 = pulp.LpVariable('x_1', lowBound=0, cat='Continuous')\n",
    "x_2 = pulp.LpVariable('x_2', lowBound=0, cat='Continuous')\n",
    "\n",
    "# Objective function\n",
    "problem_znicze += 2 * x_1 + 2.5 * x_2, \"Z\"\n",
    "\n",
    "# Constraints\n",
    "problem_znicze += 1.2*x_1+2*x_2 <= 180, \"ilosc plastiku\"\n",
    "problem_znicze += 0.2*x_1+0.1*x_2<= 16, \"wydajnosc maszyn\"\n",
    "problem_znicze += x_2<=80, \"ilosc dodatkow\"\n",
    "\n",
    "problem_znicze\n",
    "problem_znicze.solve()\n",
    "\n",
    "\n"
   ]
  },
  {
   "cell_type": "code",
   "execution_count": null,
   "metadata": {},
   "outputs": [],
   "source": [
    "\n",
    "\n",
    "\n",
    "\n"
   ]
  }
 ],
 "metadata": {
  "kernelspec": {
   "display_name": "Python 3",
   "language": "python",
   "name": "python3"
  },
  "language_info": {
   "codemirror_mode": {
    "name": "ipython",
    "version": 3
   },
   "file_extension": ".py",
   "mimetype": "text/x-python",
   "name": "python",
   "nbconvert_exporter": "python",
   "pygments_lexer": "ipython3",
   "version": "3.5.2"
  }
 },
 "nbformat": 4,
 "nbformat_minor": 2
}
