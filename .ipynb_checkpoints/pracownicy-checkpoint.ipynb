{
 "cells": [
  {
   "cell_type": "code",
   "execution_count": 14,
   "metadata": {},
   "outputs": [
    {
     "name": "stdout",
     "output_type": "stream",
     "text": [
      "Status: Optimal\n",
      "Lacze godziny nk =  7.0\n",
      "Lacze godziny kc =  9.0\n",
      "Lacze godziny dh =  8.0\n",
      "Lacze godziny sc =  20.0\n",
      "Lacze godziny hb =  19.0\n",
      "Lacze godziny ks =  7.0\n",
      "\n",
      "ilosc_godzin_dhczw = 6.0\n",
      "ilosc_godzin_dhwt = 2.0\n",
      "ilosc_godzin_hbpi = 4.0\n",
      "ilosc_godzin_hbpon = 4.0\n",
      "ilosc_godzin_hbsr = 4.0\n",
      "ilosc_godzin_hbwt = 7.0\n",
      "ilosc_godzin_kcpi = 3.0\n",
      "ilosc_godzin_kcpon = 2.0\n",
      "ilosc_godzin_kcsr = 4.0\n",
      "ilosc_godzin_ksczw = 3.0\n",
      "ilosc_godzin_kspon = 3.0\n",
      "ilosc_godzin_kssr = 1.0\n",
      "ilosc_godzin_nkczw = 5.0\n",
      "ilosc_godzin_nkpi = 2.0\n",
      "ilosc_godzin_scpi = 5.0\n",
      "ilosc_godzin_scpon = 5.0\n",
      "ilosc_godzin_scsr = 5.0\n",
      "ilosc_godzin_scwt = 5.0\n",
      "Ile nas to bedzie kosztowac =  1755.0\n"
     ]
    }
   ],
   "source": [
    "# Import PuLP modeler functions\n",
    "from pulp import *\n",
    "\n",
    "# Create the 'prob' variable to contain the problem data\n",
    "prob = LpProblem(\"The Whiskas Problem\",LpMinimize)\n",
    "\n",
    "LpVariable(\"example\", None, 100)\n",
    "\n",
    "LpVariable(\"example\", upBound = 100)\n",
    "\n",
    "# The 2 variables Beef and Chicken are created with a lower limit of zero\n",
    "x1=LpVariable(\"total amount of chairs\",0,None,LpInteger)\n",
    "x2=LpVariable(\"total amount of szafkens\",0,None,LpInteger)\n",
    "kcpon=LpVariable(\"ilosc godzin kcpon\",0,6)\n",
    "kcsr=LpVariable(\"ilosc godzin kcsr\",0,6)\n",
    "kcpi=LpVariable(\"ilosc godzin kcpi\",0,6)\n",
    "\n",
    "\n",
    "dhwt=LpVariable(\"ilosc godzin dhwt\",0,6)\n",
    "dhczw=LpVariable(\"ilosc godzin dhczw\",0,6)\n",
    "\n",
    "hbpon=LpVariable(\"ilosc godzin hbpon\",0,4)\n",
    "hbwt=LpVariable(\"ilosc godzin hbwt\",0,8)\n",
    "hbsr=LpVariable(\"ilosc godzin hbsr\",0,4)\n",
    "hbpi=LpVariable(\"ilosc godzin hbpi\",0,4)\n",
    "\n",
    "scpon=LpVariable(\"ilosc godzin scpon\",0,5)\n",
    "scwt=LpVariable(\"ilosc godzin scwt\",0,5)\n",
    "scsr=LpVariable(\"ilosc godzin scsr\",0,5)\n",
    "scpi=LpVariable(\"ilosc godzin scpi\",0,5)\n",
    "\n",
    "\n",
    "kspon=LpVariable(\"ilosc godzin kspon\",0,3)\n",
    "kssr=LpVariable(\"ilosc godzin kssr\",0,3)\n",
    "ksczw=LpVariable(\"ilosc godzin ksczw\",0,8)\n",
    "\n",
    "nkczw=LpVariable(\"ilosc godzin nkczw\",0,6)\n",
    "nkpi=LpVariable(\"ilosc godzin nkpi\",0,2)\n",
    "\n",
    "\n",
    "\n",
    "\n",
    "cost=LpVariable(\"koszty\",0)\n",
    "\n",
    "\n",
    "p_lakier=1500;\n",
    "p_inz=700;\n",
    "p_robota=300;\n",
    "\n",
    "\n",
    "\n",
    "\n",
    "\n",
    "\n",
    "\n",
    "# The objective function is added to 'prob' firs\n",
    "\n",
    "prob += (kcpon+kcsr+kcpi)*25+(dhwt+dhczw)*26+(hbpon+hbwt+hbsr+hbpi)*24+(scpon+scwt+scsr+scpi)*23+(kspon+kssr+ksczw)*28+(nkczw+nkpi)*30, \"koszta\"\n",
    "\n",
    "\n",
    "# The five constraints are entered\n",
    "#prob += x1 + x2 == 100, \"PercentagesSum\"\n",
    "prob += kcpon+hbpon+kspon+scpon >= 14, \"pon\"\n",
    "prob += dhwt+hbwt+scwt >= 14, \"wt\"\n",
    "prob += kcsr+hbsr+scsr+kssr>= 14, \"sr\"\n",
    "prob += dhczw+ksczw+nkczw >= 14, \"czw\"\n",
    "prob += kcpi+hbpi+scpi+nkpi >= 14, \"pi\"\n",
    "prob += kcpon+kcsr+kcpi >=8\n",
    "prob += dhwt+dhczw >=8\n",
    "prob += scpon+scwt+scsr+scpi >=8\n",
    "prob += hbpon+hbwt+hbsr+hbpi >=8\n",
    "prob += kspon+kssr+ksczw >=7\n",
    "prob += nkczw+nkpi >=7\n",
    "\n",
    "#prob += 0.002*x1  + 0.005*x2 <= 0.4, \"SaltRequirement\"\n",
    "# The problem data is written to an .lp file\n",
    "\n",
    "prob.writeLP(\"WhiskasModel.lp\")\n",
    "\n",
    "# The problem is solved using PuLP's choice of Solver\n",
    "prob.solve()\n",
    "\n",
    "# The status of the solution is printed to the screen\n",
    "print(\"Status:\", LpStatus[prob.status])\n",
    "\n",
    "print(\"Lacze godziny nk = \",value(nkczw+nkpi))\n",
    "print(\"Lacze godziny kc = \",value(kcpon+kcsr+kcpi))\n",
    "print(\"Lacze godziny dh = \",value(dhwt+dhczw))\n",
    "print(\"Lacze godziny sc = \",value(scpon+scwt+scsr+scpi))\n",
    "print(\"Lacze godziny hb = \",value(hbpon+hbwt+hbsr+hbpi))\n",
    "print(\"Lacze godziny ks = \",value(kspon+kssr+ksczw))\n",
    "print()\n",
    "\n",
    "# Each of the variables is printed with it's resolved optimum value\n",
    "for v in prob.variables():\n",
    "    \n",
    "    print(v.name, \"=\", v.varValue)\n",
    "    \n",
    "    \n",
    "\n",
    "# The optimised objective function value is printed to the screen\n",
    "print(\"Ile nas to bedzie kosztowac = \", value(prob.objective))\n",
    "#print(\"Total Costs =\", value(cost))"
   ]
  },
  {
   "cell_type": "code",
   "execution_count": 65,
   "metadata": {},
   "outputs": [],
   "source": [
    "def ffu(x,y,z):\n",
    "    wyn=x+y+z\n",
    "    return wyn"
   ]
  },
  {
   "cell_type": "code",
   "execution_count": 41,
   "metadata": {},
   "outputs": [
    {
     "data": {
      "text/plain": [
       "6"
      ]
     },
     "execution_count": 41,
     "metadata": {},
     "output_type": "execute_result"
    }
   ],
   "source": []
  },
  {
   "cell_type": "code",
   "execution_count": 42,
   "metadata": {},
   "outputs": [
    {
     "name": "stdout",
     "output_type": "stream",
     "text": [
      "_C1\n",
      "_C2\n",
      "_C3\n"
     ]
    }
   ],
   "source": []
  },
  {
   "cell_type": "code",
   "execution_count": null,
   "metadata": {},
   "outputs": [],
   "source": [
    "v."
   ]
  }
 ],
 "metadata": {
  "kernelspec": {
   "display_name": "Python 3",
   "language": "python",
   "name": "python3"
  },
  "language_info": {
   "codemirror_mode": {
    "name": "ipython",
    "version": 3
   },
   "file_extension": ".py",
   "mimetype": "text/x-python",
   "name": "python",
   "nbconvert_exporter": "python",
   "pygments_lexer": "ipython3",
   "version": "3.5.2"
  }
 },
 "nbformat": 4,
 "nbformat_minor": 2
}
