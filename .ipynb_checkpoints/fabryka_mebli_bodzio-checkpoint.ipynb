{
 "cells": [
  {
   "cell_type": "code",
   "execution_count": 82,
   "metadata": {},
   "outputs": [
    {
     "name": "stdout",
     "output_type": "stream",
     "text": [
      "Status: Optimal\n",
      "ilosc_godzin_pracy_jednego_inzyniera = 25.0\n",
      "ilosc_godzin_pracy_lakiernika = 15.0\n",
      "ilosc_godzin_pracy_robota = 30.0\n",
      "total_amount_of_chairs = 10.0\n",
      "total_amount_of_szafkens = 0.0\n",
      "Total Gains =  333500.0\n"
     ]
    }
   ],
   "source": [
    "# Import PuLP modeler functions\n",
    "from pulp import *\n",
    "\n",
    "# Create the 'prob' variable to contain the problem data\n",
    "prob = LpProblem(\"The Whiskas Problem\",LpMaximize)\n",
    "\n",
    "LpVariable(\"example\", None, 100)\n",
    "\n",
    "LpVariable(\"example\", upBound = 100)\n",
    "\n",
    "# The 2 variables Beef and Chicken are created with a lower limit of zero\n",
    "x1=LpVariable(\"total amount of chairs\",0,None,LpInteger)\n",
    "x2=LpVariable(\"total amount of szafkens\",0,None,LpInteger)\n",
    "ilosc_hr=LpVariable(\"ilosc godzin pracy robota\",0,30,LpInteger)\n",
    "ilosc_hi=LpVariable(\"ilosc godzin pracy jednego inzyniera\",0,30,LpInteger)\n",
    "ilosc_hl=LpVariable(\"ilosc godzin pracy lakiernika\",0,21,LpInteger)\n",
    "\n",
    "\n",
    "cost=LpVariable(\"koszty\",0)\n",
    "\n",
    "\n",
    "p_lakier=1500;\n",
    "p_inz=700;\n",
    "p_robota=300;\n",
    "\n",
    "\n",
    "\n",
    "\n",
    "\n",
    "\n",
    "\n",
    "# The objective function is added to 'prob' firs\n",
    "\n",
    "prob += 40000*x1 + 50000*x2-(p_lakier*ilosc_hl+2*p_inz*ilosc_hi+ilosc_hr*p_robota), \"Gains\"\n",
    "\n",
    "\n",
    "# The five constraints are entered\n",
    "#prob += x1 + x2 == 100, \"PercentagesSum\"\n",
    "prob += 3*x1 + 4*x2 <= 1*ilosc_hr, \"Robot\"\n",
    "prob += 5*x1 + 6*x2 <= 2*ilosc_hi, \"inzynier\"\n",
    "prob +=1.5*x1 +3*x2 <= 1*ilosc_hl, \"lakiernik\"\n",
    "#prob += 0.002*x1  + 0.005*x2 <= 0.4, \"SaltRequirement\"\n",
    "# The problem data is written to an .lp file\n",
    "\n",
    "prob.writeLP(\"WhiskasModel.lp\")\n",
    "\n",
    "# The problem is solved using PuLP's choice of Solver\n",
    "prob.solve()\n",
    "\n",
    "# The status of the solution is printed to the screen\n",
    "print(\"Status:\", LpStatus[prob.status])\n",
    "\n",
    "# Each of the variables is printed with it's resolved optimum value\n",
    "for v in prob.variables():\n",
    "    print(v.name, \"=\", v.varValue)\n",
    "\n",
    "# The optimised objective function value is printed to the screen\n",
    "print(\"Total Gains = \", value(prob.objective))\n",
    "#print(\"Total Costs =\", value(cost))"
   ]
  },
  {
   "cell_type": "code",
   "execution_count": 65,
   "metadata": {},
   "outputs": [],
   "source": [
    "def ffu(x,y,z):\n",
    "    wyn=x+y+z\n",
    "    return wyn"
   ]
  },
  {
   "cell_type": "code",
   "execution_count": 41,
   "metadata": {},
   "outputs": [
    {
     "data": {
      "text/plain": [
       "6"
      ]
     },
     "execution_count": 41,
     "metadata": {},
     "output_type": "execute_result"
    }
   ],
   "source": []
  },
  {
   "cell_type": "code",
   "execution_count": 42,
   "metadata": {},
   "outputs": [
    {
     "name": "stdout",
     "output_type": "stream",
     "text": [
      "_C1\n",
      "_C2\n",
      "_C3\n"
     ]
    }
   ],
   "source": []
  },
  {
   "cell_type": "code",
   "execution_count": null,
   "metadata": {},
   "outputs": [],
   "source": [
    "v."
   ]
  }
 ],
 "metadata": {
  "kernelspec": {
   "display_name": "Python 3",
   "language": "python",
   "name": "python3"
  },
  "language_info": {
   "codemirror_mode": {
    "name": "ipython",
    "version": 3
   },
   "file_extension": ".py",
   "mimetype": "text/x-python",
   "name": "python",
   "nbconvert_exporter": "python",
   "pygments_lexer": "ipython3",
   "version": "3.5.2"
  }
 },
 "nbformat": 4,
 "nbformat_minor": 2
}
