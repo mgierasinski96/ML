{
 "cells": [
  {
   "cell_type": "code",
   "execution_count": 83,
   "metadata": {},
   "outputs": [
    {
     "name": "stdout",
     "output_type": "stream",
     "text": [
      "Status: Optimal\n",
      "ilosc_godzin_dh = 8.0\n",
      "ilosc_godzin_hb = 8.0\n",
      "ilosc_godzin_kc = 8.0\n",
      "ilosc_godzin_ks = 7.0\n",
      "ilosc_godzin_nk = 7.0\n",
      "ilosc_godzin_sc = 8.0\n",
      "Total Gains =  1190.0\n"
     ]
    }
   ],
   "source": [
    "# Import PuLP modeler functions\n",
    "from pulp import *\n",
    "\n",
    "# Create the 'prob' variable to contain the problem data\n",
    "prob = LpProblem(\"The Whiskas Problem\",LpMinimize)\n",
    "\n",
    "LpVariable(\"example\", None, 100)\n",
    "\n",
    "LpVariable(\"example\", upBound = 100)\n",
    "\n",
    "# The 2 variables Beef and Chicken are created with a lower limit of zero\n",
    "x1=LpVariable(\"total amount of chairs\",0,None,LpInteger)\n",
    "x2=LpVariable(\"total amount of szafkens\",0,None,LpInteger)\n",
    "kc=LpVariable(\"ilosc godzin kc\",8,18)\n",
    "dh=LpVariable(\"ilosc godzin dh\",8,12)\n",
    "hb=LpVariable(\"ilosc godzin hb\",8,20)\n",
    "sc=LpVariable(\"ilosc godzin sc\",8,20)\n",
    "ks=LpVariable(\"ilosc godzin ks\",7,14)\n",
    "nk=LpVariable(\"ilosc godzin nk\",7,8)\n",
    "\n",
    "cost=LpVariable(\"koszty\",0)\n",
    "\n",
    "\n",
    "p_lakier=1500;\n",
    "p_inz=700;\n",
    "p_robota=300;\n",
    "\n",
    "\n",
    "\n",
    "\n",
    "\n",
    "\n",
    "\n",
    "# The objective function is added to 'prob' firs\n",
    "\n",
    "prob += kc*25+dh*26+hb*24+sc*23+ks*28+nk*30, \"koszta\"\n",
    "\n",
    "\n",
    "# The five constraints are entered\n",
    "#prob += x1 + x2 == 100, \"PercentagesSum\"\n",
    "prob += kc*6+hb*4+sc*5+ks*3 >= 14, \"poniedzialek\"\n",
    "prob += dh*6+hb*8+sc*5 >= 14, \"wtorek\"\n",
    "prob += kc*6+hb*4+sc*5+ks*3 >= 14, \"sroda\"\n",
    "prob += dh*6+ks*8+nk*6 >= 14, \"czwartek\"\n",
    "prob += kc*6+hb*4+sc*5+nk*2 >= 14, \"piatek\"\n",
    "#prob += 0.002*x1  + 0.005*x2 <= 0.4, \"SaltRequirement\"\n",
    "# The problem data is written to an .lp file\n",
    "\n",
    "prob.writeLP(\"WhiskasModel.lp\")\n",
    "\n",
    "# The problem is solved using PuLP's choice of Solver\n",
    "prob.solve()\n",
    "\n",
    "# The status of the solution is printed to the screen\n",
    "print(\"Status:\", LpStatus[prob.status])\n",
    "\n",
    "# Each of the variables is printed with it's resolved optimum value\n",
    "for v in prob.variables():\n",
    "    print(v.name, \"=\", v.varValue)\n",
    "\n",
    "# The optimised objective function value is printed to the screen\n",
    "print(\"Total Gains = \", value(prob.objective))\n",
    "#print(\"Total Costs =\", value(cost))"
   ]
  },
  {
   "cell_type": "code",
   "execution_count": 65,
   "metadata": {},
   "outputs": [],
   "source": [
    "def ffu(x,y,z):\n",
    "    wyn=x+y+z\n",
    "    return wyn"
   ]
  },
  {
   "cell_type": "code",
   "execution_count": 41,
   "metadata": {},
   "outputs": [
    {
     "data": {
      "text/plain": [
       "6"
      ]
     },
     "execution_count": 41,
     "metadata": {},
     "output_type": "execute_result"
    }
   ],
   "source": []
  },
  {
   "cell_type": "code",
   "execution_count": 42,
   "metadata": {},
   "outputs": [
    {
     "name": "stdout",
     "output_type": "stream",
     "text": [
      "_C1\n",
      "_C2\n",
      "_C3\n"
     ]
    }
   ],
   "source": []
  },
  {
   "cell_type": "code",
   "execution_count": null,
   "metadata": {},
   "outputs": [],
   "source": [
    "v."
   ]
  }
 ],
 "metadata": {
  "kernelspec": {
   "display_name": "Python 3",
   "language": "python",
   "name": "python3"
  },
  "language_info": {
   "codemirror_mode": {
    "name": "ipython",
    "version": 3
   },
   "file_extension": ".py",
   "mimetype": "text/x-python",
   "name": "python",
   "nbconvert_exporter": "python",
   "pygments_lexer": "ipython3",
   "version": "3.5.2"
  }
 },
 "nbformat": 4,
 "nbformat_minor": 2
}
