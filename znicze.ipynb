{
 "cells": [
  {
   "cell_type": "code",
   "execution_count": 15,
   "metadata": {},
   "outputs": [
    {
     "name": "stdout",
     "output_type": "stream",
     "text": [
      "x_1 = 50.0\n",
      "x_2 = 60.0\n",
      "250.0\n",
      "\n",
      "Sensitivity Analysis\n",
      "\n",
      "        Name\tConstraint\t\t\tShadow Price\t\tSlack\n",
      "ilosc_plastiku    : 1.2*x_1 + 2*x_2 <= 180.0          1.0714286         -0.0      \n",
      "wydajnosc_maszyn  : 0.2*x_1 + 0.1*x_2 <= 16.0         3.5714286         -0.0      \n",
      "ilosc_dodatkow    : x_2 <= 80                         -0.0              20.0      \n"
     ]
    }
   ],
   "source": [
    "import pulp\n",
    "\n",
    "problem_znicze = pulp.LpProblem(\"Problem znicze\", pulp.LpMaximize)\n",
    "\n",
    "x_1 = pulp.LpVariable('x_1', lowBound=0, cat='Continuous')\n",
    "x_2 = pulp.LpVariable('x_2', lowBound=0, cat='Continuous')\n",
    "\n",
    "# Objective function\n",
    "problem_znicze += 2 * x_1 + 2.5 * x_2, \"Z\"\n",
    "\n",
    "# Constraints\n",
    "problem_znicze += 1.2*x_1+2*x_2 <= 180, \"ilosc plastiku\"\n",
    "problem_znicze += 0.2*x_1+0.1*x_2<= 16, \"wydajnosc maszyn\"\n",
    "problem_znicze += x_2<=80, \"ilosc dodatkow\"\n",
    "\n",
    "problem_znicze\n",
    "problem_znicze.solve()\n",
    "problem_znicze.solve()\n",
    "\n",
    "for variable in problem_znicze.variables():\n",
    "    print(\"{} = {}\".format(variable.name, variable.varValue))\n",
    "\n",
    "\n",
    "\n",
    "    \n",
    "\n",
    "print(pulp.value(problem_znicze.objective))\n",
    "\n",
    "print(\"\"\"\\nSensitivity Analysis\\n\n",
    "        Name\\tConstraint\\t\\t\\tShadow Price\\t\\tSlack\"\"\")\n",
    "for name, c in problem_znicze.constraints.items():\n",
    "    print(str(name).ljust(17), \":\", str(c).ljust(33), str(c.pi).ljust(17), str(c.slack).ljust(10))\n",
    "\n",
    "\n"
   ]
  },
  {
   "cell_type": "code",
   "execution_count": null,
   "metadata": {},
   "outputs": [],
   "source": [
    "\n",
    "\n",
    "\n",
    "\n"
   ]
  }
 ],
 "metadata": {
  "kernelspec": {
   "display_name": "Python 3",
   "language": "python",
   "name": "python3"
  },
  "language_info": {
   "codemirror_mode": {
    "name": "ipython",
    "version": 3
   },
   "file_extension": ".py",
   "mimetype": "text/x-python",
   "name": "python",
   "nbconvert_exporter": "python",
   "pygments_lexer": "ipython3",
   "version": "3.5.2"
  }
 },
 "nbformat": 4,
 "nbformat_minor": 2
}
